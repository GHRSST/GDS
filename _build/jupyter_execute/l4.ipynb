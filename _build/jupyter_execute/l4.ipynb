{
 "cells": [
  {
   "cell_type": "markdown",
   "id": "3fdcf94a",
   "metadata": {},
   "source": [
    "(l4)=\n",
    "# Level 4 (L4) Product Specification\n",
    "\n",
    "## Overview description of the GHRSST L4 data product\n",
    "L4 products are the analyzed SST products, usually derived from GHRSST L2P \n",
    "products. L4 data products should ideally be made available within the \n",
    "GHRSST R/GTS framework to the user community within 24 hours.\n",
    "\n",
    "L4 products include gap-free analyzed SST data together with a number of \n",
    "ancillary fields that simplify interpretation and application of the SST \n",
    "data. Data providers are responsible for providing documentation on their \n",
    "analysis procedure. The common format of L4 products allows data users to \n",
    "code with the security that as new SST data products are brought on-line, \n",
    "very minimal code changes are required to make full use of a new L4 product. \n",
    "Time previously spent on coding different I/O routines for each satellite \n",
    "data set can be spent working with the data to produce results.\n",
    "\n",
    "The GHRSST Science Team determined that there will be 4 mandatory fields \n",
    "that form the core data content of a GHRSST L4 data file. In addition to global\n",
    "attributes and geo-location information, producers must include the following \n",
    "within a L4 file:\n",
    "- Sea Surface temperature data (SST)\n",
    "- Error estimates for SST data\n",
    "- Sea ice fraction (only and sea ice covered areas)\n",
    "- Land/sea/ice flag\n",
    "\n",
    "In addition, there are a number of optional fields that may be used at the \n",
    "data provider’s discretion.\n",
    "\n",
    "The GHRSST L4 file contents are summarized in Table {numref}`l4_content_summary` \n",
    "below.\n",
    "\n",
    "```{table} Summary description of the contents within a GHRSST L4 data product\n",
    ":name: l4_content_summary\n",
    "| Description                            | Required  |\n",
    "|----------------------------------------|-----------|\n",
    "| **Coordinate variables**  | Information to permit locating data on grids, as defined in {numref}`coordinate_variables` | \n",
    "| **Data record variables** | Core and auxiliary variables as defined in {numref}`l4_records`  | \n",
    "| **Global Attributes**     | A collection of required global attributes describing general characteristics of the file, as defined in section {numref}`global_attributes`  |\n",
    "```\n",
    "\n",
    "\n",
    "## L4 data record format specification\n",
    "L4 analysed data products are derived from an analysis procedure implemented \n",
    "at  regular intervals (daily, six-hourly or other time periods). L4 data\n",
    "products include SST, error statistics, sea ice fraction, land/sea/ice mask,\n",
    "and  other optional data for each grid-cell. A **6-byte** experimental block \n",
    "is available for data providers to test new aspects of the file or \n",
    "information specific to the analysis system that will eventually transition \n",
    "into a GHRSST standard L4 analysis field once tested.\n",
    "\n",
    "{numref}`l4_records` describes the format of GDS L4 variables that should be \n",
    "created for each L4 grid cell. In the following sections, each  variable \n",
    "within the L4 data file is described in detail.\n",
    "\n",
    "\n",
    "```{table} L4 SST product data records\n",
    ":name: l4_records\n",
    "| Variable Name          | Description            | Units  | Storage type |\n",
    "|-----------------------|------------------------|--------|-----|\n",
    "| [analysed_sst](__l4_analysed_sst) | SST from analysis system | K (kelvin) | short |\n",
    "| [analysis_error](__l4_analysis_error) | Error standard deviation estimate | K (kelvin) | short |\n",
    "| [sea_ice_fraction](__l4_sea_ice_fraction) | Fractional Sea Ice area concentration | 1 (unitless) | byte |\n",
    "| [sea_ice_fraction_error](__l4_sea_ice_fraction_error) | If the error estimates on the sea ice field are available, it is recommended to provide this information as an experimental field | 1 (unitless) | byte |\n",
    "| [mask](__l4_mask) | land/ice/lake mask | | byte |\n",
    "| [other fields](__l4_optional_fields) | Optional/experimental fields defined by data provider | | |\n",
    "```\n",
    "\n",
    "(__l4_analysed_sst)=\n",
    "## Variable **<span style=\"font-family:courier;\">analysed\\_sst</span>**\n",
    "The variable **<span style=\"font-family:courier;\">analysed\\_sst</span>** will be included with the format requirements shown in {numref}`l4_analysed_sst`.\n",
    "\n",
    "The data provider is responsible for providing GHRSST with documentation on how the analysed SST is determined. Note that the RDAC should place  **<span style=\"font-family:courier;\">_FillValue</span>** in pixels that fall on land.\n",
    "\n",
    "```{table} CDL example description of **<span style=\"font-family:courier;\">analysed_sst</span>** variable\n",
    ":name: l4_analysed_sst\n",
    "\n",
    "| **Storage type** | **Name**     | **Description**                  | **Unit** |\n",
    "|-------------------|--------------|----------------------------------|----------|\n",
    "| short             | <span style=\"font-family:courier;\">analysed\\_sst</span> | SST values from analysis systems | kelvin   |\n",
    "```"
   ]
  },
  {
   "cell_type": "code",
   "execution_count": 1,
   "id": "4313db39",
   "metadata": {
    "name": "l4_analysed_sst",
    "tags": [
     "remove-input"
    ]
   },
   "outputs": [
    {
     "name": "stdout",
     "output_type": "stream",
     "text": [
      "\tshort analysed_sst(time, lat, lon) ;\r\n",
      "\t\tanalysed_sst:_FillValue = -32768s ;\r\n",
      "\t\tanalysed_sst:long_name = \"analysed sea surface temperature\" ;\r\n",
      "\t\tanalysed_sst:standard_name = \"sea_surface_foundation_temperature\" ;\r\n",
      "\t\tanalysed_sst:units = \"kelvin\" ;\r\n",
      "\t\tanalysed_sst:add_offset = 273.15 ;\r\n",
      "\t\tanalysed_sst:scale_factor = 0.01 ;\r\n",
      "\t\tanalysed_sst:valid_min = -300s ;\r\n",
      "\t\tanalysed_sst:valid_max = 4500s ;\r\n"
     ]
    }
   ],
   "source": [
    "!ncdump -h samples/20240229000000-IFR-L4_GHRSST-SSTfnd-ODYSSEA-GLOB_010-v02.1-fv01.0.nc | grep $'[ , \\t]analysed_sst[(,:]'"
   ]
  },
  {
   "cell_type": "markdown",
   "id": "c11017ba",
   "metadata": {},
   "source": [
    "(__l4_analysis_error)=\n",
    "## Variable **<span style=\"font-family:courier;\">analysis\\_error</span>**\n",
    "The variable **<span style=\"font-family:courier;\">analysis\\_error</span>** will be included with the format requirements shown in  {numref}`l4_analysis_error`.\n",
    "\n",
    "The data provider is responsible for providing GHRSST with documentation on how **<span style=\"font-family:courier;\">analysis\\_error</span>** is determined.\n",
    "\n",
    "```{table} CDL example description of <span style=\"font-family:courier;\">analysis\\_error</span> variable\n",
    ":name: l4_analysis_error\n",
    "| **Storage type** | **Name**       | **Description**                     | **Unit** |\n",
    "|-------------------|----------------|-------------------------------------|----------|\n",
    "| short             | <span style=\"font-family:courier;\">analysis\\_error</span> | Error estimate from analysis system | kelvin   |\n",
    "```"
   ]
  },
  {
   "cell_type": "code",
   "execution_count": 2,
   "id": "3224d406",
   "metadata": {
    "tags": [
     "remove-input"
    ]
   },
   "outputs": [
    {
     "name": "stdout",
     "output_type": "stream",
     "text": [
      "\tshort analysis_error(time, lat, lon) ;\r\n",
      "\t\tanalysis_error:_FillValue = -32768s ;\r\n",
      "\t\tanalysis_error:long_name = \"estimated error standard deviation of analysed_sst\" ;\r\n",
      "\t\tanalysis_error:units = \"kelvin\" ;\r\n",
      "\t\tanalysis_error:add_offset = 0. ;\r\n",
      "\t\tanalysis_error:scale_factor = 0.01 ;\r\n",
      "\t\tanalysis_error:valid_min = 0s ;\r\n",
      "\t\tanalysis_error:valid_max = 32767s ;\r\n"
     ]
    }
   ],
   "source": [
    "!ncdump -h samples/20240229000000-IFR-L4_GHRSST-SSTfnd-ODYSSEA-GLOB_010-v02.1-fv01.0.nc | grep $'[ , \\t]analysis_error[(,:]'"
   ]
  },
  {
   "cell_type": "markdown",
   "id": "da05d4ea",
   "metadata": {},
   "source": [
    "(__l4_sea_ice_fraction)=\n",
    "## Variable **<span style=\"font-family:courier;\">sea\\_ice\\_fraction</span>**\n",
    "The variable **<span style=\"font-family:courier;\">sea\\_ice\\_fraction</span>** will be included with the format requirements shown in {numref}`l4_sea_ice_fraction`.\n",
    "\n",
    "Some SST data are contaminated in part or wholly by sea ice and the L4 variable **<span style=\"font-family:courier;\">sea\\_ice\\_fraction</span>** is used to quantify the fraction of an area contaminated with sea ice. If the error estimates on the sea ice field are available, it is recommended to provide this information as an experimental field called **<span style=\"font-family:courier;\">sea\\_ice\\_fraction</span>** variable.\n",
    "\n",
    "```{table} CDL example description of **<span style=\"font-family:courier;\">sea\\_ice\\_fraction</span>** variable\n",
    ":name: l4_sea_ice_fraction\n",
    "| **Storage type** | **Name**         | **Description**                       | **Unit**  |\n",
    "|-------------------|------------------|---------------------------------------|-----------|\n",
    "| byte              | <span style=\"font-family:courier;\">sea\\_ice\\_fraction</span> | Fractional sea ice area concentration | Fraction  |\n",
    "```"
   ]
  },
  {
   "cell_type": "code",
   "execution_count": 3,
   "id": "1a9c324a",
   "metadata": {
    "tags": [
     "remove-input"
    ]
   },
   "outputs": [
    {
     "name": "stdout",
     "output_type": "stream",
     "text": [
      "\tbyte sea_ice_fraction(time, lat, lon) ;\r\n",
      "\t\tsea_ice_fraction:_FillValue = -128b ;\r\n",
      "\t\tsea_ice_fraction:long_name = \"sea ice area fraction\" ;\r\n",
      "\t\tsea_ice_fraction:standard_name = \"sea_ice_area_fraction\" ;\r\n",
      "\t\tsea_ice_fraction:units = \"1\" ;\r\n",
      "\t\tsea_ice_fraction:add_offset = 0. ;\r\n",
      "\t\tsea_ice_fraction:scale_factor = 0.01 ;\r\n",
      "\t\tsea_ice_fraction:valid_min = 0b ;\r\n",
      "\t\tsea_ice_fraction:valid_max = 100b ;\r\n",
      "\t\tsea_ice_fraction:source_data = \"EUMETSAT OSI-SAF\" ;\r\n"
     ]
    }
   ],
   "source": [
    "!ncdump -h samples/20240229000000-IFR-L4_GHRSST-SSTfnd-ODYSSEA-GLOB_010-v02.1-fv01.0.nc | grep $'[ , \\t]sea_ice_fraction[(,:]'"
   ]
  },
  {
   "cell_type": "markdown",
   "id": "0a88838c",
   "metadata": {},
   "source": [
    "(__l4_mask)=\n",
    "## Variable **<span style=\"font-family:courier;\">mask</span>**\n",
    "The variable **<span style=\"font-family:courier;\">mask</span>** will be included with the format requirements shown in {numref}`l4_mask`.\n",
    "\n",
    "\n",
    "```{table} CDL example description of **<span style=\"font-family:courier;\">mask</span>** variable\n",
    ":name: l4_mask\n",
    "\n",
    "| **Storage type** | **Name** | **Description**        | **Unit** |\n",
    "|-------------------|----------|------------------------|----------|\n",
    "| byte              | <span style=\"font-family:courier;\">mask</span>     | land/sea/ice/lake mask | none     |\n",
    "```"
   ]
  },
  {
   "cell_type": "code",
   "execution_count": 4,
   "id": "065a04f9",
   "metadata": {
    "tags": [
     "remove-input"
    ]
   },
   "outputs": [
    {
     "name": "stdout",
     "output_type": "stream",
     "text": [
      "\tbyte mask(time, lat, lon) ;\r\n",
      "\t\tmask:long_name = \"land sea ice lake bit mask\" ;\r\n",
      "\t\tmask:flag_masks = 1b, 2b, 4b, 8b ;\r\n",
      "\t\tmask:flag_meanings = \"sea land lake ice\" ;\r\n"
     ]
    }
   ],
   "source": [
    "!ncdump -h samples/20240229000000-IFR-L4_GHRSST-SSTfnd-ODYSSEA-GLOB_010-v02.1-fv01.0.nc | grep $'[ , \\t]mask[(,:]'"
   ]
  },
  {
   "cell_type": "markdown",
   "id": "b883cd71",
   "metadata": {},
   "source": [
    "```{admonition} Comments:\n",
    "Comments\n",
    "This is a land/sea/ice mask with the following bit values:\n",
    "- Bit 0:1 = water in grid\n",
    "- Bit 1:1 = land in grid\n",
    "- Bit 2:1 = optional, lake surface in grid\n",
    "- Bit 3:1 = sea ice\n",
    "- Bit 4:1 = optional, river surface in grid\n",
    "- Bits [5-7] spare\n",
    "\n",
    "Note that the lake and river surface bit values are optional.\n",
    "\n",
    "The **<span style=\"font-family:courier;\">source</span>** attribute should list any data products used in creating this mask. List: **<span style=\"font-family:courier;\">\\<provider\\>\\_\\<type\\_of\\_mask\\>\\_\\<version_mask\\></span>**.\n",
    "```\n",
    "\n",
    "(__l4_sea_ice_fraction_error)=\n",
    "## Optional Variable **<span style=\"font-family:courier;\">sea_ice_fraction_error</span>**\n",
    "If the error estimates on the sea ice field are available, it is recommended to provide this information as an experimental field called **<span style=\"font-family:courier;\">sea_ice_fraction_error</span>** variable. The data provider is responsible for providing GHRSST with documentation on how **<span style=\"font-family:courier;\">sea_ice_fraction_error</span>** is determined.\n",
    "\n",
    "\n",
    "```{table} CDL example description of **<span style=\"font-family:courier;\">sea_ice_fraction_error</span>** variable\n",
    ":name: l4_sea_ice_fraction_error\n",
    "| **Storage type** | **Name**               | **Description**                       | **Unit**  |\n",
    "|-------------------|------------------------|---------------------------------------|-----------|\n",
    "| byte              | <span style=\"font-family:courier;\">sea_ice_fraction_error</span> | Fractional sea ice area concentration | Fraction  |\n",
    "```"
   ]
  }
 ],
 "metadata": {
  "jupytext": {
   "formats": "md:myst",
   "text_representation": {
    "extension": ".md",
    "format_name": "myst"
   }
  },
  "language_info": {
   "codemirror_mode": {
    "name": "ipython",
    "version": 3
   },
   "file_extension": ".py",
   "mimetype": "text/x-python",
   "name": "python",
   "nbconvert_exporter": "python",
   "pygments_lexer": "ipython3",
   "version": "3.10.14"
  },
  "source_map": [
   7,
   91,
   96,
   111,
   115,
   129,
   133,
   147,
   151
  ]
 },
 "nbformat": 4,
 "nbformat_minor": 5
}